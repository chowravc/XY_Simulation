{
 "cells": [
  {
   "cell_type": "markdown",
   "metadata": {
    "colab_type": "text",
    "id": "view-in-github"
   },
   "source": [
    "<a href=\"https://colab.research.google.com/github/aasgreen/create-augment-split-xy-training/blob/master/CreateAugmentSplit.ipynb\" target=\"_parent\"><img src=\"https://colab.research.google.com/assets/colab-badge.svg\" alt=\"Open In Colab\"/></a>"
   ]
  },
  {
   "cell_type": "code",
   "execution_count": null,
   "metadata": {
    "colab": {},
    "colab_type": "code",
    "id": "uyEkAw3AZKD2"
   },
   "outputs": [],
   "source": []
  },
  {
   "cell_type": "markdown",
   "metadata": {
    "colab_type": "text",
    "id": "HSiwsbrBZK5a"
   },
   "source": [
    "# Create, Augment, and Split New Training/Test Data for Defect Detection"
   ]
  },
  {
   "cell_type": "code",
   "execution_count": 1,
   "metadata": {
    "colab": {
     "base_uri": "https://localhost:8080/",
     "height": 36
    },
    "colab_type": "code",
    "id": "aiHyr4RSbhKJ",
    "outputId": "37bf34c9-a57e-4cce-8e33-c0420ef4b18f"
   },
   "outputs": [
    {
     "name": "stdout",
     "output_type": "stream",
     "text": [
      "Mounted at /content/drive\n"
     ]
    }
   ],
   "source": [
    "from google.colab import drive\n",
    "drive.mount('/content/drive')\n",
    "%mkdir /content/drive/My Drive/xy-generated-data"
   ]
  },
  {
   "cell_type": "code",
   "execution_count": null,
   "metadata": {
    "colab": {},
    "colab_type": "code",
    "id": "jM_cd0n0hdar"
   },
   "outputs": [],
   "source": [
    "#%cd /content/drive/My Drive/xy-generated-data/create-augment-split-xy-training\n",
    "! git clone https://github.com/aasgreen/create-augment-split-xy-training.git\n",
    "#! git fetch origin master\n",
    "#! git reset --hard origin/master\n",
    "%cd create-augment-split-xy-training/"
   ]
  },
  {
   "cell_type": "code",
   "execution_count": null,
   "metadata": {
    "colab": {
     "base_uri": "https://localhost:8080/",
     "height": 36
    },
    "colab_type": "code",
    "id": "xfyIKUpNcVEV",
    "outputId": "15ee2c8f-0640-4545-a27a-b148e0aae644"
   },
   "outputs": [
    {
     "name": "stdout",
     "output_type": "stream",
     "text": [
      "\u001b[0m\u001b[01;34mdata\u001b[0m/  \u001b[01;34mdev\u001b[0m/\n"
     ]
    }
   ],
   "source": [
    "%ls"
   ]
  },
  {
   "cell_type": "code",
   "execution_count": null,
   "metadata": {
    "colab": {
     "base_uri": "https://localhost:8080/",
     "height": 36
    },
    "colab_type": "code",
    "id": "a84jrzV4caGt",
    "outputId": "02880490-2edb-449b-8572-411264dd746d"
   },
   "outputs": [
    {
     "name": "stdout",
     "output_type": "stream",
     "text": [
      "/content/drive/My Drive/xy-generated-data/create-augment-split-xy-training/dev\n"
     ]
    }
   ],
   "source": [
    "%cd dev/"
   ]
  },
  {
   "cell_type": "code",
   "execution_count": null,
   "metadata": {
    "colab": {
     "base_uri": "https://localhost:8080/",
     "height": 166
    },
    "colab_type": "code",
    "id": "b_95XtBqccn0",
    "outputId": "4ac8df99-daeb-4dfd-cf85-98941ef6b51a"
   },
   "outputs": [
    {
     "name": "stdout",
     "output_type": "stream",
     "text": [
      " data_utils.py       \u001b[0m\u001b[01;32mlanganLib.cpython-36m-x86_64-linux-gnu.so\u001b[0m*\n",
      "'dCount - Copy.py'   langanLib.cpython-37m-x86_64-linux-gnu.so\n",
      " dCount.py           m1_class.pt\n",
      " dCount_reg.py       m2.pt\n",
      " format_log.sh       maskTemplate.yaml\n",
      " fpy.sh              \u001b[01;34m__pycache__\u001b[0m/\n",
      " genData.py          runNN.sh\n",
      " langan.f90          smartNoise.py\n"
     ]
    }
   ],
   "source": [
    "%ls"
   ]
  },
  {
   "cell_type": "code",
   "execution_count": null,
   "metadata": {
    "colab": {},
    "colab_type": "code",
    "id": "dY6hPv6Ccd9c"
   },
   "outputs": [],
   "source": [
    "! bash fpy.sh langanLib langan.f90"
   ]
  },
  {
   "cell_type": "code",
   "execution_count": null,
   "metadata": {
    "colab": {},
    "colab_type": "code",
    "id": "cdIjj0SschnU"
   },
   "outputs": [],
   "source": [
    "import genData\n",
    "import data_utils"
   ]
  },
  {
   "cell_type": "code",
   "execution_count": 13,
   "metadata": {
    "colab": {
     "base_uri": "https://localhost:8080/",
     "height": 858
    },
    "colab_type": "code",
    "id": "BusDHJJpc2BF",
    "outputId": "27aa9ea4-ea43-47d8-8f3f-423a8ee8e207"
   },
   "outputs": [
    {
     "name": "stdout",
     "output_type": "stream",
     "text": [
      "submasks: ['gauss', 'grid', 'scans', 'speckle']\n",
      "gaussianing\n",
      "gridding\n",
      "scanning\n",
      "speckling\n",
      "1\n",
      "4\n",
      "24\n",
      "117\n",
      "-2.0\n",
      "-2.0\n",
      "-2.0\n",
      "-2.0\n",
      "-2.0\n",
      "-2.0\n",
      "-2.0\n",
      "-2.0\n",
      "-2.0\n",
      "-2.0\n",
      "-2.0\n",
      "-2.0\n",
      "-2.0\n",
      "-2.0\n",
      "-2.0\n",
      "-2.0\n",
      "1\n",
      "4\n",
      "24\n",
      "117\n",
      "-2.0\n",
      "-2.0\n",
      "-2.0\n",
      "-2.0\n",
      "-2.0\n",
      "-2.0\n",
      "-2.0\n",
      "-2.0\n",
      "-2.0\n",
      "-2.0\n",
      "-2.0\n",
      "-2.0\n",
      "-2.0\n",
      "-2.0\n",
      "-2.0\n",
      "-2.0\n"
     ]
    }
   ],
   "source": [
    "genData.thermal_noise_sequence(10) #number of base images to generate"
   ]
  },
  {
   "cell_type": "code",
   "execution_count": 14,
   "metadata": {
    "colab": {
     "base_uri": "https://localhost:8080/",
     "height": 316
    },
    "colab_type": "code",
    "id": "bfx7q0lfc7Q9",
    "outputId": "0af73012-50ba-4d0b-9a98-a1c32446db35"
   },
   "outputs": [
    {
     "name": "stdout",
     "output_type": "stream",
     "text": [
      "2020-09-11_18-58-01-t_0.tiff        label_2020-09-11_18-58-01-t_11.dat\n",
      "2020-09-11_18-58-01-t_10.tiff       label_2020-09-11_18-58-01-t_12.dat\n",
      "2020-09-11_18-58-01-t_11.tiff       label_2020-09-11_18-58-01-t_13.dat\n",
      "2020-09-11_18-58-01-t_12.tiff       label_2020-09-11_18-58-01-t_14.dat\n",
      "2020-09-11_18-58-01-t_13.tiff       label_2020-09-11_18-58-01-t_1.dat\n",
      "2020-09-11_18-58-01-t_14.tiff       label_2020-09-11_18-58-01-t_2.dat\n",
      "2020-09-11_18-58-01-t_1.tiff        label_2020-09-11_18-58-01-t_3.dat\n",
      "2020-09-11_18-58-01-t_2.tiff        label_2020-09-11_18-58-01-t_4.dat\n",
      "2020-09-11_18-58-01-t_3.tiff        label_2020-09-11_18-58-01-t_5.dat\n",
      "2020-09-11_18-58-01-t_4.tiff        label_2020-09-11_18-58-01-t_6.dat\n",
      "2020-09-11_18-58-01-t_5.tiff        label_2020-09-11_18-58-01-t_8.dat\n",
      "2020-09-11_18-58-01-t_6.tiff        label_2020-09-11_18-58-01-t_9.dat\n",
      "2020-09-11_18-58-01-t_8.tiff        simData.yaml\n",
      "2020-09-11_18-58-01-t_9.tiff        \u001b[0m\u001b[01;34mtest_set\u001b[0m/\n",
      "label_2020-09-11_18-58-01-t_0.dat   \u001b[01;34mtrain_set\u001b[0m/\n",
      "label_2020-09-11_18-58-01-t_10.dat\n"
     ]
    }
   ],
   "source": [
    "\n",
    "%ls ../data/"
   ]
  },
  {
   "cell_type": "code",
   "execution_count": 15,
   "metadata": {
    "colab": {
     "base_uri": "https://localhost:8080/",
     "height": 54
    },
    "colab_type": "code",
    "id": "Da4RosrmdPEN",
    "outputId": "0e7151cc-6f17-4eb4-ced3-61f857c4b71c"
   },
   "outputs": [
    {
     "name": "stdout",
     "output_type": "stream",
     "text": [
      "directory ../data/test_set already exists!\n",
      "directory ../data/train_set already exists!\n"
     ]
    }
   ],
   "source": [
    "data_utils.train_test_split('../data', '../data/')"
   ]
  },
  {
   "cell_type": "code",
   "execution_count": 16,
   "metadata": {
    "colab": {
     "base_uri": "https://localhost:8080/",
     "height": 36
    },
    "colab_type": "code",
    "id": "sHGd0EGzdglM",
    "outputId": "892cd4f7-cebb-4f74-c382-f2c88754dd52"
   },
   "outputs": [
    {
     "name": "stdout",
     "output_type": "stream",
     "text": [
      "simData.yaml  \u001b[0m\u001b[01;34mtest_set\u001b[0m/  \u001b[01;34mtrain_set\u001b[0m/\n"
     ]
    }
   ],
   "source": [
    "%ls ../data/"
   ]
  },
  {
   "cell_type": "code",
   "execution_count": 17,
   "metadata": {
    "colab": {
     "base_uri": "https://localhost:8080/",
     "height": 73
    },
    "colab_type": "code",
    "id": "dUJKbIO4iTL3",
    "outputId": "43ead081-e944-4042-8b7d-9379253a415a"
   },
   "outputs": [
    {
     "name": "stdout",
     "output_type": "stream",
     "text": [
      "2020-09-11_18-58-01-t_11.tiff  label_2020-09-11_18-58-01-t_11.dat\n",
      "2020-09-11_18-58-01-t_8.tiff   label_2020-09-11_18-58-01-t_8.dat\n",
      "2020-09-11_18-58-01-t_9.tiff   label_2020-09-11_18-58-01-t_9.dat\n"
     ]
    }
   ],
   "source": [
    "%ls ../data/test_set/"
   ]
  },
  {
   "cell_type": "code",
   "execution_count": null,
   "metadata": {
    "colab": {},
    "colab_type": "code",
    "id": "ELhk2ks9iVq2"
   },
   "outputs": [],
   "source": []
  }
 ],
 "metadata": {
  "colab": {
   "authorship_tag": "ABX9TyNQ6knezMpzyHg0ufwm2Zck",
   "include_colab_link": true,
   "name": "CreateAugmentSplit.ipynb",
   "provenance": []
  },
  "kernelspec": {
   "display_name": "Python 3",
   "language": "python",
   "name": "python3"
  },
  "language_info": {
   "codemirror_mode": {
    "name": "ipython",
    "version": 3
   },
   "file_extension": ".py",
   "mimetype": "text/x-python",
   "name": "python",
   "nbconvert_exporter": "python",
   "pygments_lexer": "ipython3",
   "version": "3.8.5"
  }
 },
 "nbformat": 4,
 "nbformat_minor": 1
}
